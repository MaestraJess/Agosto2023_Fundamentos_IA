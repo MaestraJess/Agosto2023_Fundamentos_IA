{
  "nbformat": 4,
  "nbformat_minor": 0,
  "metadata": {
    "colab": {
      "provenance": [],
      "authorship_tag": "ABX9TyPX2mkq/JXJD4Ibgw5c0ijW",
      "include_colab_link": true
    },
    "kernelspec": {
      "name": "python3",
      "display_name": "Python 3"
    },
    "language_info": {
      "name": "python"
    }
  },
  "cells": [
    {
      "cell_type": "markdown",
      "metadata": {
        "id": "view-in-github",
        "colab_type": "text"
      },
      "source": [
        "<a href=\"https://colab.research.google.com/github/MaestraJess/Agosto2023_Fundamentos_IA/blob/main/Python_Ejercicios.ipynb\" target=\"_parent\"><img src=\"https://colab.research.google.com/assets/colab-badge.svg\" alt=\"Open In Colab\"/></a>"
      ]
    },
    {
      "cell_type": "markdown",
      "source": [
        "Nombre:\n",
        "\n",
        "Curso:\n",
        "\n",
        "Fecha de Entrega:"
      ],
      "metadata": {
        "id": "BYF44JVBaqRd"
      }
    },
    {
      "cell_type": "code",
      "execution_count": 2,
      "metadata": {
        "colab": {
          "base_uri": "https://localhost:8080/"
        },
        "id": "bYQS1b7MafJ0",
        "outputId": "95148902-8652-464d-b7d0-92d2c89e98af"
      },
      "outputs": [
        {
          "output_type": "stream",
          "name": "stdout",
          "text": [
            "5 printing from the global scope\n",
            "13 printing from the local scope\n"
          ]
        }
      ],
      "source": [
        "# scopes3.py\n",
        "# Local, Enclosing and Global\n",
        "def enclosing_func():\n",
        "  m = 13\n",
        "  def local():\n",
        "    # El valor de m se calcula a partir de la variable que está contenida dentro de la función padre\n",
        "    print(m, 'printing from the local scope')\n",
        "    # calling the function local\n",
        "  local()\n",
        "m = 5\n",
        "print(m, 'printing from the global scope')\n",
        "enclosing_func()"
      ]
    }
  ]
}